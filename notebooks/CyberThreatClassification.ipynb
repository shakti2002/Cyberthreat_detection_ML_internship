{
 "cells": [
  {
   "cell_type": "markdown",
   "id": "4816e1ad-5aed-4838-8633-7a41ac26aefe",
   "metadata": {},
   "source": [
    "\"\"\"\r\n",
    "# Cybersecurity Threat Classification\r\n",
    "\r\n",
    "**Objective**: Classify network threats using machine learning on the UNSW-NB15 dataset.\r\n",
    "\r\n",
    "**Dataset**: UNSW-NB15 (https://research.unsw.edu.au/projects/unsw-nb15-dataset)\r\n",
    "- Training set: `UNSW_NB15_training-set.csv`\r\n",
    "- Testing set: `UNSW_NB15_testing-set.csv`\r\n",
    "\"\"\""
   ]
  },
  {
   "cell_type": "markdown",
   "id": "89ba7baa-666a-4dce-a9ca-acc911ea0002",
   "metadata": {},
   "source": [
    "# Import required libraries"
   ]
  },
  {
   "cell_type": "code",
   "execution_count": 19,
   "id": "61a31470-1909-4add-839b-cd6a3b7d471d",
   "metadata": {},
   "outputs": [],
   "source": [
    "import pandas as pd\n",
    "import numpy as np\n",
    "import matplotlib.pyplot as plt\n",
    "import seaborn as sns\n",
    "from sklearn.model_selection import train_test_split\n",
    "from sklearn.preprocessing import StandardScaler, LabelEncoder\n",
    "from sklearn.ensemble import RandomForestClassifier\n",
    "from sklearn.svm import SVC\n",
    "from sklearn.neural_network import MLPClassifier\n",
    "from sklearn.metrics import (classification_report, confusion_matrix, \n",
    "                            accuracy_score, precision_score, \n",
    "                            recall_score, f1_score)\n",
    "from sklearn.feature_selection import SelectKBest, f_classif\n",
    "import joblib\n",
    "import warnings\n",
    "warnings.filterwarnings('ignore')"
   ]
  },
  {
   "cell_type": "code",
   "execution_count": 11,
   "id": "333af142-8e00-4508-ad32-7d624ccda762",
   "metadata": {},
   "outputs": [
    {
     "name": "stdout",
     "output_type": "stream",
     "text": [
      "Current working directory: C:\\Users\\shakt\\cybersecurity-threat-classification\\notebooks\n",
      "Files in this directory: ['.ipynb_checkpoints', 'CyberThreatClassification.ipynb']\n"
     ]
    }
   ],
   "source": [
    "import os\n",
    "print(\"Current working directory:\", os.getcwd())\n",
    "print(\"Files in this directory:\", os.listdir())"
   ]
  },
  {
   "cell_type": "markdown",
   "id": "2addfe60-28d2-4ebd-8d0e-8a14de3281c9",
   "metadata": {},
   "source": [
    "## 1. Data Loading and Initial Exploration"
   ]
  },
  {
   "cell_type": "markdown",
   "id": "d3bce54f-d161-484f-99ff-cc6eb008f517",
   "metadata": {},
   "source": [
    "# Load both training and testing datasets"
   ]
  },
  {
   "cell_type": "code",
   "execution_count": 13,
   "id": "440bf987-5731-4c12-baf9-698067809f2e",
   "metadata": {},
   "outputs": [],
   "source": [
    "train_df = pd.read_csv('../data/UNSW_NB15_training-set.csv')\n",
    "test_df = pd.read_csv('../data/UNSW_NB15_testing-set.csv')"
   ]
  },
  {
   "cell_type": "markdown",
   "id": "dfb23172-8c19-45ea-85ec-317b725cde9d",
   "metadata": {},
   "source": [
    "# Combine them for complete analysis"
   ]
  },
  {
   "cell_type": "code",
   "execution_count": 15,
   "id": "732c15f5-2ee6-4a47-80a7-2fa3a3e0fc18",
   "metadata": {},
   "outputs": [],
   "source": [
    "df = pd.concat([train_df, test_df], axis=0)\n"
   ]
  },
  {
   "cell_type": "markdown",
   "id": "f4b06b4d-84d8-4426-99e5-6a18c6e7054d",
   "metadata": {},
   "source": [
    "# Display basic info"
   ]
  },
  {
   "cell_type": "code",
   "execution_count": 16,
   "id": "a61a666f-039b-4a4c-9fee-d82cb2f49fd7",
   "metadata": {},
   "outputs": [
    {
     "name": "stdout",
     "output_type": "stream",
     "text": [
      "Dataset Shape: (257673, 45)\n",
      "\n",
      "First 5 rows:\n"
     ]
    },
    {
     "data": {
      "text/html": [
       "<div>\n",
       "<style scoped>\n",
       "    .dataframe tbody tr th:only-of-type {\n",
       "        vertical-align: middle;\n",
       "    }\n",
       "\n",
       "    .dataframe tbody tr th {\n",
       "        vertical-align: top;\n",
       "    }\n",
       "\n",
       "    .dataframe thead th {\n",
       "        text-align: right;\n",
       "    }\n",
       "</style>\n",
       "<table border=\"1\" class=\"dataframe\">\n",
       "  <thead>\n",
       "    <tr style=\"text-align: right;\">\n",
       "      <th></th>\n",
       "      <th>id</th>\n",
       "      <th>dur</th>\n",
       "      <th>proto</th>\n",
       "      <th>service</th>\n",
       "      <th>state</th>\n",
       "      <th>spkts</th>\n",
       "      <th>dpkts</th>\n",
       "      <th>sbytes</th>\n",
       "      <th>dbytes</th>\n",
       "      <th>rate</th>\n",
       "      <th>...</th>\n",
       "      <th>ct_dst_sport_ltm</th>\n",
       "      <th>ct_dst_src_ltm</th>\n",
       "      <th>is_ftp_login</th>\n",
       "      <th>ct_ftp_cmd</th>\n",
       "      <th>ct_flw_http_mthd</th>\n",
       "      <th>ct_src_ltm</th>\n",
       "      <th>ct_srv_dst</th>\n",
       "      <th>is_sm_ips_ports</th>\n",
       "      <th>attack_cat</th>\n",
       "      <th>label</th>\n",
       "    </tr>\n",
       "  </thead>\n",
       "  <tbody>\n",
       "    <tr>\n",
       "      <th>0</th>\n",
       "      <td>1</td>\n",
       "      <td>0.121478</td>\n",
       "      <td>tcp</td>\n",
       "      <td>-</td>\n",
       "      <td>FIN</td>\n",
       "      <td>6</td>\n",
       "      <td>4</td>\n",
       "      <td>258</td>\n",
       "      <td>172</td>\n",
       "      <td>74.087490</td>\n",
       "      <td>...</td>\n",
       "      <td>1</td>\n",
       "      <td>1</td>\n",
       "      <td>0</td>\n",
       "      <td>0</td>\n",
       "      <td>0</td>\n",
       "      <td>1</td>\n",
       "      <td>1</td>\n",
       "      <td>0</td>\n",
       "      <td>Normal</td>\n",
       "      <td>0</td>\n",
       "    </tr>\n",
       "    <tr>\n",
       "      <th>1</th>\n",
       "      <td>2</td>\n",
       "      <td>0.649902</td>\n",
       "      <td>tcp</td>\n",
       "      <td>-</td>\n",
       "      <td>FIN</td>\n",
       "      <td>14</td>\n",
       "      <td>38</td>\n",
       "      <td>734</td>\n",
       "      <td>42014</td>\n",
       "      <td>78.473372</td>\n",
       "      <td>...</td>\n",
       "      <td>1</td>\n",
       "      <td>2</td>\n",
       "      <td>0</td>\n",
       "      <td>0</td>\n",
       "      <td>0</td>\n",
       "      <td>1</td>\n",
       "      <td>6</td>\n",
       "      <td>0</td>\n",
       "      <td>Normal</td>\n",
       "      <td>0</td>\n",
       "    </tr>\n",
       "    <tr>\n",
       "      <th>2</th>\n",
       "      <td>3</td>\n",
       "      <td>1.623129</td>\n",
       "      <td>tcp</td>\n",
       "      <td>-</td>\n",
       "      <td>FIN</td>\n",
       "      <td>8</td>\n",
       "      <td>16</td>\n",
       "      <td>364</td>\n",
       "      <td>13186</td>\n",
       "      <td>14.170161</td>\n",
       "      <td>...</td>\n",
       "      <td>1</td>\n",
       "      <td>3</td>\n",
       "      <td>0</td>\n",
       "      <td>0</td>\n",
       "      <td>0</td>\n",
       "      <td>2</td>\n",
       "      <td>6</td>\n",
       "      <td>0</td>\n",
       "      <td>Normal</td>\n",
       "      <td>0</td>\n",
       "    </tr>\n",
       "    <tr>\n",
       "      <th>3</th>\n",
       "      <td>4</td>\n",
       "      <td>1.681642</td>\n",
       "      <td>tcp</td>\n",
       "      <td>ftp</td>\n",
       "      <td>FIN</td>\n",
       "      <td>12</td>\n",
       "      <td>12</td>\n",
       "      <td>628</td>\n",
       "      <td>770</td>\n",
       "      <td>13.677108</td>\n",
       "      <td>...</td>\n",
       "      <td>1</td>\n",
       "      <td>3</td>\n",
       "      <td>1</td>\n",
       "      <td>1</td>\n",
       "      <td>0</td>\n",
       "      <td>2</td>\n",
       "      <td>1</td>\n",
       "      <td>0</td>\n",
       "      <td>Normal</td>\n",
       "      <td>0</td>\n",
       "    </tr>\n",
       "    <tr>\n",
       "      <th>4</th>\n",
       "      <td>5</td>\n",
       "      <td>0.449454</td>\n",
       "      <td>tcp</td>\n",
       "      <td>-</td>\n",
       "      <td>FIN</td>\n",
       "      <td>10</td>\n",
       "      <td>6</td>\n",
       "      <td>534</td>\n",
       "      <td>268</td>\n",
       "      <td>33.373826</td>\n",
       "      <td>...</td>\n",
       "      <td>1</td>\n",
       "      <td>40</td>\n",
       "      <td>0</td>\n",
       "      <td>0</td>\n",
       "      <td>0</td>\n",
       "      <td>2</td>\n",
       "      <td>39</td>\n",
       "      <td>0</td>\n",
       "      <td>Normal</td>\n",
       "      <td>0</td>\n",
       "    </tr>\n",
       "  </tbody>\n",
       "</table>\n",
       "<p>5 rows × 45 columns</p>\n",
       "</div>"
      ],
      "text/plain": [
       "   id       dur proto service state  spkts  dpkts  sbytes  dbytes       rate  \\\n",
       "0   1  0.121478   tcp       -   FIN      6      4     258     172  74.087490   \n",
       "1   2  0.649902   tcp       -   FIN     14     38     734   42014  78.473372   \n",
       "2   3  1.623129   tcp       -   FIN      8     16     364   13186  14.170161   \n",
       "3   4  1.681642   tcp     ftp   FIN     12     12     628     770  13.677108   \n",
       "4   5  0.449454   tcp       -   FIN     10      6     534     268  33.373826   \n",
       "\n",
       "   ...  ct_dst_sport_ltm  ct_dst_src_ltm  is_ftp_login  ct_ftp_cmd  \\\n",
       "0  ...                 1               1             0           0   \n",
       "1  ...                 1               2             0           0   \n",
       "2  ...                 1               3             0           0   \n",
       "3  ...                 1               3             1           1   \n",
       "4  ...                 1              40             0           0   \n",
       "\n",
       "   ct_flw_http_mthd  ct_src_ltm  ct_srv_dst  is_sm_ips_ports  attack_cat  \\\n",
       "0                 0           1           1                0      Normal   \n",
       "1                 0           1           6                0      Normal   \n",
       "2                 0           2           6                0      Normal   \n",
       "3                 0           2           1                0      Normal   \n",
       "4                 0           2          39                0      Normal   \n",
       "\n",
       "   label  \n",
       "0      0  \n",
       "1      0  \n",
       "2      0  \n",
       "3      0  \n",
       "4      0  \n",
       "\n",
       "[5 rows x 45 columns]"
      ]
     },
     "metadata": {},
     "output_type": "display_data"
    }
   ],
   "source": [
    "print(\"Dataset Shape:\", df.shape)\n",
    "print(\"\\nFirst 5 rows:\")\n",
    "display(df.head())"
   ]
  },
  {
   "cell_type": "code",
   "execution_count": 61,
   "id": "a07b897d-64dc-4a21-a761-6cc8e0b03a40",
   "metadata": {},
   "outputs": [
    {
     "data": {
      "text/plain": [
       "id                   0\n",
       "dur                  0\n",
       "proto                0\n",
       "service              0\n",
       "state                0\n",
       "spkts                0\n",
       "dpkts                0\n",
       "sbytes               0\n",
       "dbytes               0\n",
       "rate                 0\n",
       "sttl                 0\n",
       "dttl                 0\n",
       "sload                0\n",
       "dload                0\n",
       "sloss                0\n",
       "dloss                0\n",
       "sinpkt               0\n",
       "dinpkt               0\n",
       "sjit                 0\n",
       "djit                 0\n",
       "swin                 0\n",
       "stcpb                0\n",
       "dtcpb                0\n",
       "dwin                 0\n",
       "tcprtt               0\n",
       "synack               0\n",
       "ackdat               0\n",
       "smean                0\n",
       "dmean                0\n",
       "trans_depth          0\n",
       "response_body_len    0\n",
       "ct_srv_src           0\n",
       "ct_state_ttl         0\n",
       "ct_dst_ltm           0\n",
       "ct_src_dport_ltm     0\n",
       "ct_dst_sport_ltm     0\n",
       "ct_dst_src_ltm       0\n",
       "is_ftp_login         0\n",
       "ct_ftp_cmd           0\n",
       "ct_flw_http_mthd     0\n",
       "ct_src_ltm           0\n",
       "ct_srv_dst           0\n",
       "is_sm_ips_ports      0\n",
       "attack_cat           0\n",
       "label                0\n",
       "dtype: int64"
      ]
     },
     "execution_count": 61,
     "metadata": {},
     "output_type": "execute_result"
    }
   ],
   "source": [
    "df.isnull().sum()\n"
   ]
  },
  {
   "cell_type": "code",
   "execution_count": 62,
   "id": "44b65db1-24ff-4cca-96a6-a1a07767f150",
   "metadata": {},
   "outputs": [
    {
     "data": {
      "text/plain": [
       "<bound method DataFrame.nunique of           id       dur proto service state  spkts  dpkts  sbytes  dbytes  \\\n",
       "0          1  0.121478   tcp       -   FIN      6      4     258     172   \n",
       "1          2  0.649902   tcp       -   FIN     14     38     734   42014   \n",
       "2          3  1.623129   tcp       -   FIN      8     16     364   13186   \n",
       "3          4  1.681642   tcp     ftp   FIN     12     12     628     770   \n",
       "4          5  0.449454   tcp       -   FIN     10      6     534     268   \n",
       "...      ...       ...   ...     ...   ...    ...    ...     ...     ...   \n",
       "82327  82328  0.000005   udp       -   INT      2      0     104       0   \n",
       "82328  82329  1.106101   tcp       -   FIN     20      8   18062     354   \n",
       "82329  82330  0.000000   arp       -   INT      1      0      46       0   \n",
       "82330  82331  0.000000   arp       -   INT      1      0      46       0   \n",
       "82331  82332  0.000009   udp       -   INT      2      0     104       0   \n",
       "\n",
       "                rate  ...  ct_dst_sport_ltm  ct_dst_src_ltm  is_ftp_login  \\\n",
       "0          74.087490  ...                 1               1             0   \n",
       "1          78.473372  ...                 1               2             0   \n",
       "2          14.170161  ...                 1               3             0   \n",
       "3          13.677108  ...                 1               3             1   \n",
       "4          33.373826  ...                 1              40             0   \n",
       "...              ...  ...               ...             ...           ...   \n",
       "82327  200000.005100  ...                 1               2             0   \n",
       "82328      24.410067  ...                 1               1             0   \n",
       "82329       0.000000  ...                 1               1             0   \n",
       "82330       0.000000  ...                 1               1             0   \n",
       "82331  111111.107200  ...                 1               1             0   \n",
       "\n",
       "       ct_ftp_cmd  ct_flw_http_mthd  ct_src_ltm  ct_srv_dst  is_sm_ips_ports  \\\n",
       "0               0                 0           1           1                0   \n",
       "1               0                 0           1           6                0   \n",
       "2               0                 0           2           6                0   \n",
       "3               1                 0           2           1                0   \n",
       "4               0                 0           2          39                0   \n",
       "...           ...               ...         ...         ...              ...   \n",
       "82327           0                 0           2           1                0   \n",
       "82328           0                 0           3           2                0   \n",
       "82329           0                 0           1           1                1   \n",
       "82330           0                 0           1           1                1   \n",
       "82331           0                 0           1           1                0   \n",
       "\n",
       "       attack_cat  label  \n",
       "0          Normal      0  \n",
       "1          Normal      0  \n",
       "2          Normal      0  \n",
       "3          Normal      0  \n",
       "4          Normal      0  \n",
       "...           ...    ...  \n",
       "82327      Normal      0  \n",
       "82328      Normal      0  \n",
       "82329      Normal      0  \n",
       "82330      Normal      0  \n",
       "82331      Normal      0  \n",
       "\n",
       "[257673 rows x 45 columns]>"
      ]
     },
     "execution_count": 62,
     "metadata": {},
     "output_type": "execute_result"
    }
   ],
   "source": [
    "df.nunique"
   ]
  },
  {
   "cell_type": "code",
   "execution_count": 68,
   "id": "afb8bf16-0d75-4199-b1d4-1d90eecfbb82",
   "metadata": {},
   "outputs": [
    {
     "name": "stdout",
     "output_type": "stream",
     "text": [
      "\n",
      "Unique values in id:\n",
      "[     1      2      3 ... 175339 175340 175341]\n",
      "\n",
      "Unique values in dur:\n",
      "[0.121478 0.649902 1.623129 ... 0.811914 5.16741  1.106101]\n",
      "\n",
      "Unique values in proto:\n",
      "['tcp' 'udp' 'arp' 'ospf' 'icmp' 'igmp' 'rtp' 'ddp' 'ipv6-frag' 'cftp'\n",
      " 'wsn' 'pvp' 'wb-expak' 'mtp' 'pri-enc' 'sat-mon' 'cphb' 'sun-nd' 'iso-ip'\n",
      " 'xtp' 'il' 'unas' 'mfe-nsp' '3pc' 'ipv6-route' 'idrp' 'bna' 'swipe'\n",
      " 'kryptolan' 'cpnx' 'rsvp' 'wb-mon' 'vmtp' 'ib' 'dgp' 'eigrp' 'ax.25'\n",
      " 'gmtp' 'pnni' 'sep' 'pgm' 'idpr-cmtp' 'zero' 'rvd' 'mobile' 'narp' 'fc'\n",
      " 'pipe' 'ipcomp' 'ipv6-no' 'sat-expak' 'ipv6-opts' 'snp' 'ipcv'\n",
      " 'br-sat-mon' 'ttp' 'tcf' 'nsfnet-igp' 'sprite-rpc' 'aes-sp3-d' 'sccopmce'\n",
      " 'sctp' 'qnx' 'scps' 'etherip' 'aris' 'pim' 'compaq-peer' 'vrrp' 'iatp'\n",
      " 'stp' 'l2tp' 'srp' 'sm' 'isis' 'smp' 'fire' 'ptp' 'crtp' 'sps'\n",
      " 'merit-inp' 'idpr' 'skip' 'any' 'larp' 'ipip' 'micp' 'encap' 'ifmp'\n",
      " 'tp++' 'a/n' 'ipv6' 'i-nlsp' 'ipx-n-ip' 'sdrp' 'tlsp' 'gre' 'mhrp' 'ddx'\n",
      " 'ippc' 'visa' 'secure-vmtp' 'uti' 'vines' 'crudp' 'iplt' 'ggp' 'ip'\n",
      " 'ipnip' 'st2' 'argus' 'bbn-rcc' 'egp' 'emcon' 'igp' 'nvp' 'pup' 'xnet'\n",
      " 'chaos' 'mux' 'dcn' 'hmp' 'prm' 'trunk-1' 'xns-idp' 'leaf-1' 'leaf-2'\n",
      " 'rdp' 'irtp' 'iso-tp4' 'netblt' 'trunk-2' 'cbt']\n",
      "\n",
      "Unique values in service:\n",
      "['-' 'ftp' 'smtp' 'snmp' 'http' 'ftp-data' 'dns' 'ssh' 'radius' 'pop3'\n",
      " 'dhcp' 'ssl' 'irc']\n",
      "\n",
      "Unique values in state:\n",
      "['FIN' 'INT' 'CON' 'ECO' 'REQ' 'RST' 'PAR' 'URN' 'no' 'ACC' 'CLO']\n",
      "\n",
      "Unique values in spkts:\n",
      "[    6    14     8    12    10    62     2    24    28    30     1    16\n",
      "     4    36    22   122    38    20    66    78    42    52    64    40\n",
      "    80     3    26   110   106   360   354   366   352   108   362    18\n",
      "   342   332   336   308   322   328   358   224   234   222   208   200\n",
      "    68    48    90   356    70   348   236    92   240   452   450   368\n",
      "   434   420   238   432   288   112   650   656   364   548    50   230\n",
      "   562   372   216   204    60   228   206   350   294   346   232    46\n",
      "   226   218   296   190   286    88   338    32   344   326   340   318\n",
      "   212   242   202   214   324   314   292   244   284    58   334   220\n",
      "   306   290   280    11    54    34    84   128    86   436   422   438\n",
      "   414   440   126   320   198   302   370   130   398   210   460   448\n",
      "   396   454   400   442   462   464    82   412   468   456   330   406\n",
      "   446   424   466   402   132   444   428   458   310   268   276    72\n",
      "   376   426    74   430   282   312   278   266   390   124   270   264\n",
      "   618   622   298   304   632   274   262   104   254   620   256   628\n",
      "   614   616   260   624   272    56   174   176   184   172   178   182\n",
      "   470   180   316    44   374   170   116   162   158   152   146   142\n",
      "   136   120  1624   250   118  4316   490   682   150    96   164   154\n",
      "   168   574  5418   160   102  4808    94   378   144  5494   668   816\n",
      "  4018   166    98   188   140   194  6974    76   246   114   148  5386\n",
      "   594   156   134   138   512   826   532  1268  4094  7040   644   196\n",
      "   300   100   954   542  5966  1876   890  2578  1388  2478  1604   584\n",
      "  5404  7292  9094   186   666  9492   486  4232   598  1062  3086   392\n",
      "   248   702  5708   818  1634   680   710  1630   706   672   804  2698\n",
      "  1522   252   538   258   630  1664   488   558   576   832  5370  4026\n",
      "  4694  3758  1254  1832  3974   556  1654   708  1026  4040   754  1816\n",
      "  4410  1096   192  6680   722   494  1866   566   384   564  1638  4416\n",
      "  5062  5424   586  8070   864  1138   714  1488  7990   998  5702   740\n",
      "  2740  2462   792   964  2014  4624  6430   472   776   752   634  3818\n",
      "   686  5666  4608   704   660   930   742   790   516   410   912  4370\n",
      "  4360  4174  1600  5392  1248   810  2320   582  5402   552   662  1874\n",
      "  7684   612  9616   514  1072   636  1142  6836  8882   610  5652  1422\n",
      "   484   608   590  1006  2446  2690   670  4806  2436   382  4404   716\n",
      "  2922  5382  6262  6616   568  6776   578  1246   592  3074  1870   530\n",
      "  1704  3844  2228  1110  2004   788   822    21   600  1622  5254  1500\n",
      "  5442  7226   482  4938  7252   698  1770  7908   694   836  4212  1458\n",
      "  8324   854  1834  2700  1892   978   696  2734   720  5412  4920   732\n",
      "  4450  1708  1012   524  2722   798   784  1596   782   678   952  1228\n",
      "  6118  2066  1686  6584  6332  5444  2750  4458  7194  5376   734  7660\n",
      "  3882   554  5686  3822   658   760   758   800  5184  1456  1544  1044\n",
      "  5416  4144  1642  3684  6874   654  1250  6954  5974  1872   970  3960\n",
      "   580   386  9392  2494  5422 10646  8424  1192  3262  2726   900  6778\n",
      "   416  1118   506   626   676   730  5646   772  1174  1178   640   602\n",
      "    39     5    37     9    19    17     7   205   690   305   349   317\n",
      "    43   447   423   353   129    27   103    45   221   351    91    13\n",
      "   333    61    87    29    35   225   323   664   502   341   207   418\n",
      "   674   319    47   534   646   287   638   237    73    41   361   191\n",
      "   105   195   177   313   379   223    51   388   197    63   201   339\n",
      "   415    59    67   395   119   425    81   251   357   389    85   327\n",
      "    57   213    23   219    15   291   355   404    49   209   526   121\n",
      "  4132   764  1074  1632   820   572    31   846   544   293   606   496\n",
      "  4812  5196  1256   922  1082  5466    25  7340  3638  5060  1430   550\n",
      "  1940   700  5179  3760  5364   560  8669  9416  2854 10200  2978   536\n",
      "  2676   797   692  6820  5532   898   522  2730  1159    83]\n",
      "\n",
      "Unique values in dpkts:\n",
      "[    4    38    16    12     6     8    28     0    10    58    20     2\n",
      "    24    18    22   126    30    40    68    66    80    42    54    26\n",
      "    44    60     3   114    82   746    36    14   116   438   388    70\n",
      "    50    92   858    64    90   560   112  1278  1078    48    72    94\n",
      "    78    52     1   400    62    86   124    34   806   122    84   754\n",
      "    88   128   512    74   594   130   682    76   684   510   192   236\n",
      "   238   234   232    56   196   240   194   190   106   606    46  1716\n",
      "    32  1452   252  2940   150   140   402   368    96   704   164   100\n",
      "   274   242   810   288   324   148   350   160   570  1084   166   638\n",
      "   158   156   748   230   108   318   412   138   268   110  2150   228\n",
      "   558   828   132   626   340   286   394   182  2588   162  1036   826\n",
      "   210   332   118   300   366  1530   170   244   208  3402   674   200\n",
      "   602  1046   448   226  1234   146    98   346   316  1382   296   254\n",
      "   304   102   562   168   370   152   362   918   616   310   144   364\n",
      "   276   224   174   802   308   588   392   154   554   272   250   814\n",
      "   142   104  1106   690   184   342  1368   656   204   120  1414   328\n",
      "   702   612   636   222   650   280   198   564  2748   178   486   472\n",
      "   816  1978  4560   808   860   134   136   306  5254  2636   352   260\n",
      "   334  4526   800   444  1250   416  2272   248   338   426   220   336\n",
      "  1594   258   348   270  1226  5164   314   694   528   188   548  1542\n",
      "   446  1434   822   732   592  1418   282   398   652   216 10974   372\n",
      "   422   292   668   408   374   202   172   556  2786   660   572  1154\n",
      "  2144   996   356   320   176   246   516   670   818   780   618   278\n",
      "  1216  1104   386  6676   878   186   214   566   624   180   492   354\n",
      "   474   382 10850   390  4396  1394   490  1998   976   376   646   862\n",
      "  2630  2612   312   738  4550   716   428  1560   812  2646  6088   536\n",
      "  1052   700   696   360   662  1244   798   482   264   586   796   698\n",
      "   610   824   326  1206   832   298  1458   544  1174  1272   266   550\n",
      "   206  3350   600   664   418   420  1842   358  1030  4548  1350   468\n",
      "   856  9346  3698  3664   344  3696   396   450  1632   432   724   552\n",
      "   380   322   710  1256   290  2620  3036  1796   946   986  1032  4476\n",
      "   302  1538   256  1048   330   804   576  3206   648   686  1222  1262\n",
      "   642   568   436  2076  1088   520   762   378   424  1622  1110  1200\n",
      "  1502   462  9660  1260  1364   514   434   608   864  1500  1310  2014\n",
      "   466  6494  1644  3604   714  2642   430   692   476  2306  1388  1264\n",
      "   928  1018   644   688   964   834  1114   596   680  3314   212  1160\n",
      "   294  4910  5276   792  2004   384  1742  1656   404  2002  6994  1294\n",
      "  1554   622 11018   634   538  1020  1464   532  1700  1534  1428  3692\n",
      "   896   620  1412  1582  1224  7958   502  3148  1438 10872  1034  1618\n",
      "   484  4518  2012  7728   218  3128  1176   119    15   295    11    13\n",
      "     7    41   757   163    21   363   697   726   121    27   845   630\n",
      "   851   504   740   728   125   508   493   819    49   423   506   735\n",
      "   159   729    39   411    33   437   846   742   854  1012     9   713\n",
      "    47   109     5    25    17    67    53   413   768   720   577   730\n",
      "   711   421   427   353   361   669    43   695   731   410   355   743\n",
      "   113   623   723   123   727   766   347   718    61   788    29    59\n",
      "    71   431   673   689   221    75   701    35   675    55   739   409\n",
      "   633   672   693   383   309   829  1722   530 10970   464  3784   480\n",
      "   628    19   906  1212  3504    23   750  1349    37   784  2668   405\n",
      "    69  7090  1100  1812   582   770  2929  2030    83  1724   805  1386\n",
      "    31   549   197  1230   559  1446   201  1340   478  1038  1518   414\n",
      "  1984   890  3360   452   654  1028  1014    57   863  5902  4455  1324\n",
      "  2194  1163  1432]\n",
      "\n",
      "Unique values in sbytes:\n",
      "[   258    734    364 ... 128392   3376 138067]\n",
      "\n",
      "Unique values in dbytes:\n",
      "[   172  42014  13186 ... 128094 119490  15365]\n",
      "\n",
      "Unique values in rate:\n",
      "[74.08749  78.473372 14.170161 ... 18.474862 25.351192 24.410067]\n",
      "\n",
      "Unique values in sttl:\n",
      "[252  62 254   0   1  31  63  64  60  29 255  32  30]\n",
      "\n",
      "Unique values in dttl:\n",
      "[254 252   0  29  60  31  30  32 253]\n",
      "\n",
      "Unique values in sload:\n",
      "[ 14158.94238    8395.112305   1572.271851 ...   5222.228027 211771.8594\n",
      " 124104.3984  ]\n",
      "\n",
      "Unique values in dload:\n",
      "[  8495.365234 503571.3125    60929.23047  ...   2207.130127   1546.616211\n",
      "   2242.109863]\n",
      "\n",
      "Unique values in sloss:\n",
      "[   0    2    1    3   28    5    4    6   11   12   15   30    7   14\n",
      "   18   26   21   19   38   55   47   27   35   36   34   24  144   13\n",
      "   33   37   39   17   54    8   29   53  130  132   10   58   32    9\n",
      "   88   84   85   83   78   76   73   70   68   65   63   57   51   52\n",
      "   79   20  133   16  809   56 2157  337   69   45  118   22  140   74\n",
      "   81   43  171   42  131  284   31 2706  113   97   92   49   77   71\n",
      "  183  167   48 2403   41   62   44   72  157  186  111 2746  331  406\n",
      " 2003   80   46   91   59   67   60   94  110   23 3484  135   95   50\n",
      "  120   86 2690  295  151   75   64   40  105   66  129  410  631 2045\n",
      " 3518  152  102  221  319  168   25  147   87   96  125  108  473  268\n",
      "  170 2982  934  438  142 1288  691 1236  182  149  799  289 2699  278\n",
      " 3643 4546   90  177  329 4745  240 2110  210  296  122   61  528  127\n",
      "  165  124  313  164 1540  143  192  121 2851  154  340  156   89  349\n",
      "  332 1346  758  123  266  126  107  137  119  315  830  109  216  114\n",
      "  244  276  103  106  338  285  413 2682 2011 2343   82 1877  624  913\n",
      " 1985  207  162  275   99  353  512  230 2019  376  100  138  184  905\n",
      " 2203  548   93  145 3338  358  930  280  189  279  816 2205  181 2530\n",
      " 2709  288 4033  451  566  354  741 3993  239  211 2848  196  307  366\n",
      " 1367  348 1225  395  112  476 1004 2309 3213  233  385  116  375  314\n",
      " 1906 2832  153 2303  327  464  370  394  257  159 2184 2179 2085  217\n",
      "  797  146 2693  304  357  622  402 1157 2698  273  325  328  204 3838\n",
      "  303 4803 2014  532  209  568 3417 4439  302 2822  150  232  241  495\n",
      " 1220 1341  155 2401 1214  270  101  322  188 2201  355 1458 2688 3129\n",
      " 3307  175  218  281 3386  294  286  619  339  166  352 1536  932  850\n",
      " 1922 1111  552  999  391  408  297  808 2623  271  747  334 2718 3607\n",
      "  238 2468  161 3624  346  881 3951  344  414 2101 4158  115  426  911\n",
      " 1347  185  305  178  943 1364  356 2703 2457 2225  847  502  261 1358\n",
      "  213  398  392  795  390  336  287  611 3057 1030  840 3290 3164  219\n",
      " 2719 1372  399 2226 3592 2687  364 3830 1940 2840 1910  377 2591  726\n",
      "  770  393  309 2705 2070 1841 3436  139   98  409  117  326  180  396\n",
      "  324 3476 2986  933  478 1976 4694  343  368 1241 2707 5319 4210  407\n",
      "  274 1627 1360  193  449  205  556  350  250  310  362 2820  389  386\n",
      "  586 2065  381  535  403  128  420  345  269 2405 2594  625  422  259\n",
      "  190  460 2730 3669 1812  202 2528  712  272  388  967  347 2535 1876\n",
      "  179 2679  293 4206 4707 1424 5096 1484 1335 3407  308 1362  546  104]\n",
      "\n",
      "Unique values in dloss:\n",
      "[   0   17    6    3    1    8    2    5    4   27   11   10    9   32\n",
      "    7   13   26   33   15   14   31  370  197  174   28   18   39  390\n",
      "  253  583  491  180   24   36  366  342  231   30  269  199   20  369\n",
      "  230   37   59   67   44  274   16   22  856   25  724   21   12 1467\n",
      "   73  194  181   46  349  182   35   80  134  119  141   23  160  135\n",
      "   72   45  172   75  283  540   77  317   74  113   52  157  204   34\n",
      "  115  132   54   29   53 1072  111  276   95  124  168   56  195 1291\n",
      "   79   78   19  103  164   57   51  148   64  763   83  120  102 1699\n",
      "  335  221  615   42   71   68   41   47   43  171  155   40  689  146\n",
      "   55  125  149   49  279  150  131   76   82  183  178  114   63  306\n",
      "  136  110   84  398  152  292  275   38   69  192   50  343   86  326\n",
      "  100   58  277  162  304  109  323  138   97   48  153   89 1368   96\n",
      "  240  406  123  987 2277  402   70   66  151 2627 1315  173  165 2262\n",
      "  220  623  116  122  206 1133  167  211  108  166  797  126  611 2576\n",
      "  118  345   61  262   91  272  769  715   81  707  196  133  106 5484\n",
      "  144   88  201  332   99  344 1390  284  572 1070   62   93  176  158\n",
      "  179   85  256  407  307  310  137  606  550  191 3338  295   90  324\n",
      "  105  234  280  121  244  175  203 5425 2198  694  243  997  117 1312\n",
      " 1303  154 2273  356  212  142  185  778  403 1320 3039  266  163  524\n",
      "  703  329  620  397  238  130  288  396  347  303  161  601  414  727\n",
      "  270  139  294  634  273   92  101 1674  330  184  207  921  177 2272\n",
      "  521 4672 1846 1831 1848  412  814  265  214  188 1316  410  625 1307\n",
      " 1517  895 2234  298  767  522  399 1601  341  609  302  629  235  319\n",
      "  282  147  112  216 1035  257  186  210  805  749 4829  680  254  215\n",
      "  748  653 1005  301 3246  820 1799  143 1318  255  236 1151  692  233\n",
      "  555  296   98 1654  104  321   87 2454 2633   65 1000  127  190  869\n",
      "  825  200  281  140  999 3497  645  775 5507  267  222  729  264  848\n",
      "  765  712   60 1844  308  278  610 3978 1572  717 5436  806 2257  320\n",
      " 1004 3864  107 1558  536  337  353  193  362  381  286  386  364  340\n",
      "  227  365  187  360  357  358  383  367  461  361  354  368  352  318\n",
      "  156  327  336  128  189  346  145  355  334  300  169  359  348  312\n",
      "  411  859  263 5483 1886  237  247  451  604 1561 1750  608 1331  202\n",
      " 3545  904  289 1436  299 1013  860  691  242  613  721  517  205  990\n",
      "  442 1676  217  325  504 2950 2193  641  241  400  350 1091  535  714]\n",
      "\n",
      "Unique values in sinpkt:\n",
      "[ 24.2956    49.915    231.875571 ...  83.216333  48.287767  55.880051]\n",
      "\n",
      "Unique values in dinpkt:\n",
      "[  8.375     15.432865 102.737203 ... 138.888594 221.155219 143.7     ]\n",
      "\n",
      "Unique values in sjit:\n",
      "[   30.177547    61.426934 17179.58686  ...  4368.102356  9709.118613\n",
      "  4798.130981]\n",
      "\n",
      "Unique values in djit:\n",
      "[   11.830604  1387.77833  11420.92623  ...   195.623781   559.5605\n",
      "   190.980813]\n",
      "\n",
      "Unique values in swin:\n",
      "[255   0  31 232  14 192 103  45  87 172 168 167  42 156 202  99   5  67\n",
      " 154  52 245  43]\n",
      "\n",
      "Unique values in stcpb:\n",
      "[ 621772692 1417884146 2116150707 ... 3487870721 2309382861 1072535109]\n",
      "\n",
      "Unique values in dtcpb:\n",
      "[2202533631 3077387971 2963114973 ... 2884385558 4150989117 3284291478]\n",
      "\n",
      "Unique values in dwin:\n",
      "[255   0 244  70  48  37  40  81 160  77 171 137 164  27  33 209  12  46\n",
      " 125]\n",
      "\n",
      "Unique values in tcprtt:\n",
      "[0.       0.111897 0.128381 ... 0.237125 0.140691 0.173208]\n",
      "\n",
      "Unique values in synack:\n",
      "[0.       0.061458 0.071147 ... 0.083616 0.117467 0.100191]\n",
      "\n",
      "Unique values in ackdat:\n",
      "[0.       0.050439 0.057234 ... 0.053846 0.119658 0.073017]\n",
      "\n",
      "Unique values in smean:\n",
      "[  43   52   46 ... 1415 1397 1402]\n",
      "\n",
      "Unique values in dmean:\n",
      "[  43 1106  824 ... 1386  816  978]\n",
      "\n",
      "Unique values in trans_depth:\n",
      "[  0   1   2  80 155   3   5   4 163 172  39 131   9   8]\n",
      "\n",
      "Unique values in response_body_len:\n",
      "[     0    103    109 ... 260116     15   2084]\n",
      "\n",
      "Unique values in ct_srv_src:\n",
      "[ 1 43  7 11  2  3  6  5 12 63  4  9  8 14 13 16 10 17 15 19 21 20 22 18\n",
      " 27 23 37 46 39 28 36 34 29 40 25 31 38 35 52 33 24 26 44 45 30 32 47 41\n",
      " 42 49 51 50 59 48 54 53 58]\n",
      "\n",
      "Unique values in ct_state_ttl:\n",
      "[0 1 2 3 6 4 5]\n",
      "\n",
      "Unique values in ct_dst_ltm:\n",
      "[ 1  2  3  6  7 10  5  8  9 12  4 11 13 14 24 15 17 18 16 21 23 37 46 20\n",
      " 40 25 22 41 35 45 27 19 26 44 31 32 38 33 39 36 43 48 29 34 47 30 28 42\n",
      " 50 51 59 52]\n",
      "\n",
      "Unique values in ct_src_dport_ltm:\n",
      "[ 1  2  3  6 10  5  8  9  7  4 11 14 13 15 12 21 17 18 23 37 46 16 20 40\n",
      " 25 19 33 22 31 27 34 28 26 32 29 30 24 36 45 35 39 42 41 38 50 51 43 47\n",
      " 44 59 52 48]\n",
      "\n",
      "Unique values in ct_dst_sport_ltm:\n",
      "[ 1  2  3 23 37 46 14 20 40  4  5  6  9  8 10  7 18 17 15 16 13 12 11 24\n",
      " 25 28 22 19 26 21 27 31 33 32 38]\n",
      "\n",
      "Unique values in ct_dst_src_ltm:\n",
      "[ 1  2  3 40  4  7  6 63  5  8  9 10 13 11 12 14 19 26 15 23 37 46 39 20\n",
      " 28 36 34 22 29 16 25 32 38 35 51 33 18 31 41 21 30 17 27 44 43 45 24 54\n",
      " 42 65 47 49 50 52 59 48 53 58]\n",
      "\n",
      "Unique values in is_ftp_login:\n",
      "[0 1 2 4]\n",
      "\n",
      "Unique values in ct_ftp_cmd:\n",
      "[0 1 2 4]\n",
      "\n",
      "Unique values in ct_flw_http_mthd:\n",
      "[ 0  1  4  2  9 12  6 25 16 30  3]\n",
      "\n",
      "Unique values in ct_src_ltm:\n",
      "[ 1  2  3  6 12 10  5  8  4  9 13  7 17 19 11 14 15 16 21 18 24 20 23 37\n",
      " 46 40 25 22 45 27 26 39 41 44 34 30 28 35 29 42 47 43 31 60 33 36 38 32\n",
      " 50 51 52 48]\n",
      "\n",
      "Unique values in ct_srv_dst:\n",
      "[ 1  6 39  3  2  8  5 11  9  7 62 10  4 12 21 17 16 13 18 14 19 15 24 20\n",
      " 26 23 37 46 28 36 34 22 29 30 40 25 31 38 35 51 33 27 44 42 45 32 41 43\n",
      " 47 49 50 52 59 48 54 53 58]\n",
      "\n",
      "Unique values in is_sm_ips_ports:\n",
      "[0 1]\n",
      "\n",
      "Unique values in attack_cat:\n",
      "['Normal' 'Backdoor' 'Analysis' 'Fuzzers' 'Shellcode' 'Reconnaissance'\n",
      " 'Exploits' 'DoS' 'Worms' 'Generic']\n",
      "\n",
      "Unique values in label:\n",
      "[0 1]\n"
     ]
    }
   ],
   "source": [
    "# Get unique values for each column\n",
    "for column in df.columns:\n",
    "    print(f\"\\nUnique values in {column}:\")\n",
    "    print(df[column].unique())"
   ]
  },
  {
   "cell_type": "code",
   "execution_count": 70,
   "id": "82b3625c-e0b5-432d-8c6f-11043b461704",
   "metadata": {},
   "outputs": [
    {
     "name": "stdout",
     "output_type": "stream",
     "text": [
      "Found 0 duplicate rows\n",
      "\n",
      "Duplicate Rows:\n"
     ]
    },
    {
     "data": {
      "text/html": [
       "<div>\n",
       "<style scoped>\n",
       "    .dataframe tbody tr th:only-of-type {\n",
       "        vertical-align: middle;\n",
       "    }\n",
       "\n",
       "    .dataframe tbody tr th {\n",
       "        vertical-align: top;\n",
       "    }\n",
       "\n",
       "    .dataframe thead th {\n",
       "        text-align: right;\n",
       "    }\n",
       "</style>\n",
       "<table border=\"1\" class=\"dataframe\">\n",
       "  <thead>\n",
       "    <tr style=\"text-align: right;\">\n",
       "      <th></th>\n",
       "      <th>id</th>\n",
       "      <th>dur</th>\n",
       "      <th>proto</th>\n",
       "      <th>service</th>\n",
       "      <th>state</th>\n",
       "      <th>spkts</th>\n",
       "      <th>dpkts</th>\n",
       "      <th>sbytes</th>\n",
       "      <th>dbytes</th>\n",
       "      <th>rate</th>\n",
       "      <th>...</th>\n",
       "      <th>ct_dst_sport_ltm</th>\n",
       "      <th>ct_dst_src_ltm</th>\n",
       "      <th>is_ftp_login</th>\n",
       "      <th>ct_ftp_cmd</th>\n",
       "      <th>ct_flw_http_mthd</th>\n",
       "      <th>ct_src_ltm</th>\n",
       "      <th>ct_srv_dst</th>\n",
       "      <th>is_sm_ips_ports</th>\n",
       "      <th>attack_cat</th>\n",
       "      <th>label</th>\n",
       "    </tr>\n",
       "  </thead>\n",
       "  <tbody>\n",
       "  </tbody>\n",
       "</table>\n",
       "<p>0 rows × 45 columns</p>\n",
       "</div>"
      ],
      "text/plain": [
       "Empty DataFrame\n",
       "Columns: [id, dur, proto, service, state, spkts, dpkts, sbytes, dbytes, rate, sttl, dttl, sload, dload, sloss, dloss, sinpkt, dinpkt, sjit, djit, swin, stcpb, dtcpb, dwin, tcprtt, synack, ackdat, smean, dmean, trans_depth, response_body_len, ct_srv_src, ct_state_ttl, ct_dst_ltm, ct_src_dport_ltm, ct_dst_sport_ltm, ct_dst_src_ltm, is_ftp_login, ct_ftp_cmd, ct_flw_http_mthd, ct_src_ltm, ct_srv_dst, is_sm_ips_ports, attack_cat, label]\n",
       "Index: []\n",
       "\n",
       "[0 rows x 45 columns]"
      ]
     },
     "metadata": {},
     "output_type": "display_data"
    }
   ],
   "source": [
    "# Find duplicate rows (keeping first occurrence)\n",
    "duplicates = df[df.duplicated()]\n",
    "\n",
    "# Count of duplicate rows\n",
    "print(f\"Found {len(duplicates)} duplicate rows\")\n",
    "\n",
    "# Display duplicate rows\n",
    "print(\"\\nDuplicate Rows:\")\n",
    "display(duplicates)"
   ]
  },
  {
   "cell_type": "code",
   "execution_count": null,
   "id": "607d5e61-5496-4e6b-b621-13ca08eef094",
   "metadata": {},
   "outputs": [],
   "source": []
  },
  {
   "cell_type": "markdown",
   "id": "f977c262-a001-4751-9e44-7023fe412ba6",
   "metadata": {},
   "source": [
    "# Check label distribution"
   ]
  },
  {
   "cell_type": "code",
   "execution_count": 18,
   "id": "bec63243-cbd8-4b19-a259-835bb8c6b8ec",
   "metadata": {},
   "outputs": [
    {
     "name": "stdout",
     "output_type": "stream",
     "text": [
      "\n",
      "Label Distribution:\n",
      "label\n",
      "1    164673\n",
      "0     93000\n",
      "Name: count, dtype: int64\n"
     ]
    }
   ],
   "source": [
    "print(\"\\nLabel Distribution:\")\n",
    "print(df['label'].value_counts())"
   ]
  },
  {
   "cell_type": "markdown",
   "id": "02e64f53-3a82-4e41-ad0f-7dab515194df",
   "metadata": {},
   "source": [
    "## 2. Data Preprocessing\r\n"
   ]
  },
  {
   "cell_type": "code",
   "execution_count": 28,
   "id": "2af9d963-841d-40db-ac3f-53ce801112c5",
   "metadata": {},
   "outputs": [],
   "source": [
    "def select_features(X, y, k=20):\n",
    "    \"\"\"\n",
    "    Select top k features using ANOVA F-value\n",
    "    Args:\n",
    "        X: Features\n",
    "        y: Labels\n",
    "        k: Number of features to select\n",
    "    Returns:\n",
    "        Selected features and their indices\n",
    "    \"\"\"\n",
    "    selector = SelectKBest(score_func=f_classif, k=k)\n",
    "    X_new = selector.fit_transform(X, y)\n",
    "    selected_indices = selector.get_support(indices=True)\n",
    "    selected_features = X.columns[selected_indices]\n",
    "    \n",
    "    print(f\"\\nTop {k} selected features:\")\n",
    "    print(selected_features)\n",
    "    \n",
    "    return X_new, selected_features\n"
   ]
  },
  {
   "cell_type": "markdown",
   "id": "58ed9711-5ae6-4c81-b0c9-216960439e80",
   "metadata": {},
   "source": [
    "##  Select top 20 features"
   ]
  },
  {
   "cell_type": "code",
   "execution_count": 29,
   "id": "d3f63475-f612-4dcc-840b-2ef1516804ae",
   "metadata": {},
   "outputs": [
    {
     "name": "stdout",
     "output_type": "stream",
     "text": [
      "\n",
      "Top 20 selected features:\n",
      "Index(['state', 'rate', 'sttl', 'sload', 'dload', 'sinpkt', 'swin', 'stcpb',\n",
      "       'dtcpb', 'dwin', 'dmean', 'ct_srv_src', 'ct_state_ttl', 'ct_dst_ltm',\n",
      "       'ct_src_dport_ltm', 'ct_dst_sport_ltm', 'ct_dst_src_ltm', 'ct_src_ltm',\n",
      "       'ct_srv_dst', 'is_sm_ips_ports'],\n",
      "      dtype='object')\n"
     ]
    }
   ],
   "source": [
    "X_selected, selected_features = select_features(X, y, k=20)"
   ]
  },
  {
   "cell_type": "markdown",
   "id": "560cd0a2-8e91-4c93-90f8-9f0f3093c175",
   "metadata": {},
   "source": [
    "## 4. Train-Test Split"
   ]
  },
  {
   "cell_type": "markdown",
   "id": "46795583-053a-4282-8779-a05b5fc5e0dc",
   "metadata": {},
   "source": [
    "### Split into training and testing sets (70-30 split)"
   ]
  },
  {
   "cell_type": "code",
   "execution_count": 30,
   "id": "6a123359-18cd-4c98-a591-e54ada3d0bae",
   "metadata": {},
   "outputs": [],
   "source": [
    "X_train, X_test, y_train, y_test = train_test_split(\n",
    "    X_selected, y, test_size=0.3, random_state=42, stratify=y)"
   ]
  },
  {
   "cell_type": "markdown",
   "id": "cdef35be-f3f8-4b60-b24c-bd941fa7a861",
   "metadata": {},
   "source": [
    "### Scale the features"
   ]
  },
  {
   "cell_type": "code",
   "execution_count": 32,
   "id": "b699e4d6-fd54-4075-93df-8b6dc8a2e9d1",
   "metadata": {},
   "outputs": [],
   "source": [
    "scaler = StandardScaler()\n",
    "X_train_scaled = scaler.fit_transform(X_train)\n",
    "X_test_scaled = scaler.transform(X_test)"
   ]
  },
  {
   "cell_type": "markdown",
   "id": "bcc6e529-e078-49ed-9189-ec98a61ca21e",
   "metadata": {},
   "source": [
    "## 5. Model Training"
   ]
  },
  {
   "cell_type": "code",
   "execution_count": 40,
   "id": "4f702560-0abe-4a9e-b6fc-c4d6a2ef9608",
   "metadata": {},
   "outputs": [],
   "source": [
    "def train_models(X_train, y_train):\n",
    "    \"\"\"\n",
    "    Train multiple classification models\n",
    "    Args:\n",
    "        X_train: Training features\n",
    "        y_train: Training labels\n",
    "    Returns:\n",
    "        Dictionary of trained models\n",
    "    \"\"\"\n",
    "    models = {\n",
    "        \"Random Forest\": RandomForestClassifier(\n",
    "            n_estimators=100, random_state=42, n_jobs=-1),\n",
    "        \"SVM\": SVC(kernel='rbf', C=1.0, gamma='scale', random_state=42),\n",
    "        \"Neural Network\": MLPClassifier(\n",
    "            hidden_layer_sizes=(100,), max_iter=500, random_state=42)\n",
    "    }\n",
    "    \n",
    "    for name, model in models.items():\n",
    "        print(f\"Training {name}...\")\n",
    "        model.fit(X_train, y_train)\n",
    "    \n",
    "    return models"
   ]
  },
  {
   "cell_type": "markdown",
   "id": "acdd983e-a37b-4b00-9fcb-3d9ccbc975ea",
   "metadata": {},
   "source": [
    "# Train all models"
   ]
  },
  {
   "cell_type": "code",
   "execution_count": 41,
   "id": "79f4e480-32a3-4913-9b88-e7328d110568",
   "metadata": {},
   "outputs": [
    {
     "name": "stdout",
     "output_type": "stream",
     "text": [
      "Training Random Forest...\n",
      "Training SVM...\n",
      "Training Neural Network...\n"
     ]
    }
   ],
   "source": [
    "models = train_models(X_train_scaled, y_train)"
   ]
  },
  {
   "cell_type": "code",
   "execution_count": 47,
   "id": "f32288a0-bb42-4295-b1e2-a6884751ed5a",
   "metadata": {},
   "outputs": [
    {
     "name": "stdout",
     "output_type": "stream",
     "text": [
      "\n",
      "Training Verification:\n",
      "Random Forest: Trained\n",
      "SVM: Trained\n",
      "Neural Network: Trained\n"
     ]
    }
   ],
   "source": [
    "print(\"\\nTraining Verification:\")\n",
    "for name, model in models.items():\n",
    "    print(f\"{name}: {'Trained' if hasattr(model, 'classes_') else 'NOT trained'}\")"
   ]
  },
  {
   "cell_type": "code",
   "execution_count": 48,
   "id": "a508aa6c-b3aa-4143-9d05-4e5fde46530a",
   "metadata": {},
   "outputs": [
    {
     "name": "stdout",
     "output_type": "stream",
     "text": [
      "SVM predictions sample: [0 0 0 0 1]\n",
      "NN predictions sample: [0 0 0 0 1]\n"
     ]
    }
   ],
   "source": [
    "print(\"SVM predictions sample:\", models[\"SVM\"].predict(X_test_scaled[:5]))\n",
    "print(\"NN predictions sample:\", models[\"Neural Network\"].predict(X_test_scaled[:5]))"
   ]
  },
  {
   "cell_type": "code",
   "execution_count": 54,
   "id": "d4ef9953-9cf2-428e-b26f-8ad944fa1364",
   "metadata": {},
   "outputs": [
    {
     "name": "stdout",
     "output_type": "stream",
     "text": [
      "\n",
      "=== Explicit Evaluation ===\n",
      "\n",
      "Evaluating SVM...\n",
      "\n",
      "SVM Classification Report:\n",
      "              precision    recall  f1-score   support\n",
      "\n",
      "           0       0.94      0.80      0.87     27900\n",
      "           1       0.90      0.97      0.93     49402\n",
      "\n",
      "    accuracy                           0.91     77302\n",
      "   macro avg       0.92      0.89      0.90     77302\n",
      "weighted avg       0.91      0.91      0.91     77302\n",
      "\n"
     ]
    },
    {
     "data": {
      "image/png": "[encoded data removed]",
      "text/plain": [
       "<Figure size 600x600 with 2 Axes>"
      ]
     },
     "metadata": {},
     "output_type": "display_data"
    },
    {
     "name": "stdout",
     "output_type": "stream",
     "text": [
      "\n",
      "Evaluating Neural Network...\n",
      "\n",
      "Neural Network Classification Report:\n",
      "              precision    recall  f1-score   support\n",
      "\n",
      "           0       0.89      0.93      0.91     27900\n",
      "           1       0.96      0.93      0.95     49402\n",
      "\n",
      "    accuracy                           0.93     77302\n",
      "   macro avg       0.93      0.93      0.93     77302\n",
      "weighted avg       0.94      0.93      0.93     77302\n",
      "\n"
     ]
    },
    {
     "data": {
      "image/png": "[encoded data removed]",
      "text/plain": [
       "<Figure size 600x600 with 2 Axes>"
      ]
     },
     "metadata": {},
     "output_type": "display_data"
    }
   ],
   "source": [
    "print(\"\\n=== Explicit Evaluation ===\")\n",
    "for name in [\"SVM\", \"Neural Network\"]:\n",
    "    if name in models:\n",
    "        print(f\"\\nEvaluating {name}...\")\n",
    "        evaluate_model(models[name], X_test_scaled, y_test, name)\n",
    "    else:\n",
    "        print(f\"⚠️ {name} not found in trained models!\")"
   ]
  },
  {
   "cell_type": "markdown",
   "id": "d36f878a-df40-4122-810f-2cfa47070afb",
   "metadata": {},
   "source": [
    "## 6. Model Evaluation"
   ]
  },
  {
   "cell_type": "code",
   "execution_count": 55,
   "id": "7ab222aa-e70a-4972-86c5-58adc6e20e59",
   "metadata": {},
   "outputs": [
    {
     "name": "stdout",
     "output_type": "stream",
     "text": [
      "\n",
      "Random Forest Classification Report:\n",
      "              precision    recall  f1-score   support\n",
      "\n",
      "           0       0.92      0.92      0.92     27900\n",
      "           1       0.96      0.95      0.96     49402\n",
      "\n",
      "    accuracy                           0.94     77302\n",
      "   macro avg       0.94      0.94      0.94     77302\n",
      "weighted avg       0.94      0.94      0.94     77302\n",
      "\n"
     ]
    },
    {
     "data": {
      "image/png": "[encoded data removed]",
      "text/plain": [
       "<Figure size 600x600 with 2 Axes>"
      ]
     },
     "metadata": {},
     "output_type": "display_data"
    },
    {
     "name": "stdout",
     "output_type": "stream",
     "text": [
      "\n",
      "SVM Classification Report:\n",
      "              precision    recall  f1-score   support\n",
      "\n",
      "           0       0.94      0.80      0.87     27900\n",
      "           1       0.90      0.97      0.93     49402\n",
      "\n",
      "    accuracy                           0.91     77302\n",
      "   macro avg       0.92      0.89      0.90     77302\n",
      "weighted avg       0.91      0.91      0.91     77302\n",
      "\n"
     ]
    },
    {
     "data": {
      "image/png": "[encoded data removed]",
      "text/plain": [
       "<Figure size 600x600 with 2 Axes>"
      ]
     },
     "metadata": {},
     "output_type": "display_data"
    },
    {
     "name": "stdout",
     "output_type": "stream",
     "text": [
      "\n",
      "Neural Network Classification Report:\n",
      "              precision    recall  f1-score   support\n",
      "\n",
      "           0       0.89      0.93      0.91     27900\n",
      "           1       0.96      0.93      0.95     49402\n",
      "\n",
      "    accuracy                           0.93     77302\n",
      "   macro avg       0.93      0.93      0.93     77302\n",
      "weighted avg       0.94      0.93      0.93     77302\n",
      "\n"
     ]
    },
    {
     "data": {
      "image/png": "[encoded data removed]",
      "text/plain": [
       "<Figure size 600x600 with 2 Axes>"
      ]
     },
     "metadata": {},
     "output_type": "display_data"
    },
    {
     "name": "stdout",
     "output_type": "stream",
     "text": [
      "\n",
      "Model Comparison:\n"
     ]
    },
    {
     "data": {
      "text/plain": [
       "{'Random Forest': {'Accuracy': 0.9429380869835192,\n",
       "  'Precision': 0.956826350953435,\n",
       "  'Recall': 0.9537468118699648,\n",
       "  'F1-Score': 0.9552840995488874},\n",
       " 'SVM': {'Accuracy': 0.910584460945383,\n",
       "  'Precision': 0.8975040227519365,\n",
       "  'Recall': 0.9709728351078903,\n",
       "  'F1-Score': 0.9327940261356564},\n",
       " 'Neural Network': {'Accuracy': 0.9339861840573336,\n",
       "  'Precision': 0.9615921642179848,\n",
       "  'Recall': 0.9340107687947856,\n",
       "  'F1-Score': 0.9476008091429041}}"
      ]
     },
     "metadata": {},
     "output_type": "display_data"
    }
   ],
   "source": [
    "# %%\n",
    "def evaluate_model(model, X_test, y_test, model_name):\n",
    "    y_pred = model.predict(X_test)\n",
    "    metrics = {\n",
    "        'Accuracy': accuracy_score(y_test, y_pred),\n",
    "        'Precision': precision_score(y_test, y_pred),\n",
    "        'Recall': recall_score(y_test, y_pred),\n",
    "        'F1-Score': f1_score(y_test, y_pred)\n",
    "    }\n",
    "    \n",
    "    print(f\"\\n{model_name} Classification Report:\")\n",
    "    print(classification_report(y_test, y_pred))\n",
    "    \n",
    "    plt.figure(figsize=(6, 6))\n",
    "    cm = confusion_matrix(y_test, y_pred)\n",
    "    sns.heatmap(cm, annot=True, fmt='d', cmap='Blues',\n",
    "                xticklabels=['Normal', 'Attack'],\n",
    "                yticklabels=['Normal', 'Attack'])\n",
    "    plt.title(f'{model_name} Confusion Matrix')\n",
    "    plt.show()\n",
    "    return metrics\n",
    "\n",
    "results = {}\n",
    "for name, model in models.items():\n",
    "    results[name] = evaluate_model(model, X_test_scaled, y_test, name)\n",
    "\n",
    "print(\"\\nModel Comparison:\")\n",
    "pd.DataFrame(results).T\n",
    "display(results)"
   ]
  },
  {
   "cell_type": "code",
   "execution_count": 56,
   "id": "44634750-246b-4c5b-83e5-241000a2be44",
   "metadata": {},
   "outputs": [
    {
     "data": {
      "image/png": "[encoded data removed]",
      "text/plain": [
       "<Figure size 1200x800 with 1 Axes>"
      ]
     },
     "metadata": {},
     "output_type": "display_data"
    }
   ],
   "source": [
    "# Feature importance for Random Forest\n",
    "if 'Random Forest' in models:\n",
    "    rf_model = models['Random Forest']\n",
    "    importances = rf_model.feature_importances_\n",
    "    indices = np.argsort(importances)[::-1]\n",
    "    \n",
    "    plt.figure(figsize=(12, 8))\n",
    "    plt.title(\"Random Forest Feature Importance\")\n",
    "    plt.bar(range(len(selected_features)), importances[indices], align='center')\n",
    "    plt.xticks(range(len(selected_features)), \n",
    "               [selected_features[i] for i in indices], rotation=90)\n",
    "    plt.tight_layout()\n",
    "    plt.show()"
   ]
  },
  {
   "cell_type": "code",
   "execution_count": 58,
   "id": "9fece0b1-b842-4656-b670-151280626f6a",
   "metadata": {},
   "outputs": [
    {
     "name": "stdout",
     "output_type": "stream",
     "text": [
      "\n",
      "Saved:\n",
      "- best_cyber_threat_model.pkl: Trained model\n",
      "- scaler.pkl: Feature scaler\n",
      "- selected_features.pkl: Selected feature names\n"
     ]
    }
   ],
   "source": [
    "# Save the best performing model (Random Forest in this case)\n",
    "best_model = models['Random Forest']\n",
    "joblib.dump(best_model, 'best_cyber_threat_model.pkl')\n",
    "joblib.dump(scaler, 'scaler.pkl')\n",
    "joblib.dump(selected_features, 'selected_features.pkl')\n",
    "\n",
    "print(\"\\nSaved:\")\n",
    "print(\"- best_cyber_threat_model.pkl: Trained model\")\n",
    "print(\"- scaler.pkl: Feature scaler\")\n",
    "print(\"- selected_features.pkl: Selected feature names\")"
   ]
  },
  {
   "cell_type": "code",
   "execution_count": 60,
   "id": "03d3dc34-6516-4055-ba9e-cd5bdcd9a654",
   "metadata": {},
   "outputs": [
    {
     "name": "stdout",
     "output_type": "stream",
     "text": [
      "\n",
      "Sample Prediction:\n",
      "Selected Features: ['state', 'rate', 'sttl', 'sload', 'dload', 'sinpkt', 'swin', 'stcpb', 'dtcpb', 'dwin', 'dmean', 'ct_srv_src', 'ct_state_ttl', 'ct_dst_ltm', 'ct_src_dport_ltm', 'ct_dst_sport_ltm', 'ct_dst_src_ltm', 'ct_src_ltm', 'ct_srv_dst', 'is_sm_ips_ports']\n",
      "Feature Values: [4.00000000e+00 6.17770752e+03 3.10000000e+01 2.06203988e+06\n",
      " 2.61093575e+06 3.45381000e-01 2.55000000e+02 4.19773147e+09\n",
      " 4.19805237e+09 2.55000000e+02 9.90000000e+01 1.00000000e+00\n",
      " 0.00000000e+00 3.00000000e+00 1.00000000e+00 1.00000000e+00\n",
      " 1.00000000e+00 2.00000000e+00 6.00000000e+00 0.00000000e+00]\n",
      "Predicted: Normal\n",
      "Actual: Normal\n"
     ]
    }
   ],
   "source": [
    "\"\"\"\n",
    "## 9. Sample Prediction\n",
    "\"\"\"\n",
    "loaded_model = joblib.load('best_cyber_threat_model.pkl')\n",
    "loaded_scaler = joblib.load('scaler.pkl')\n",
    "loaded_features = joblib.load('selected_features.pkl')\n",
    "\n",
    "# Get the first test sample (pre-scaling)\n",
    "X_test_df = pd.DataFrame(X_test, columns=selected_features)  # Recreate DataFrame\n",
    "sample_data = X_test_df.iloc[0:1][loaded_features]\n",
    "\n",
    "# Scale and predict\n",
    "sample_data_scaled = loaded_scaler.transform(sample_data)\n",
    "prediction = loaded_model.predict(sample_data_scaled)\n",
    "\n",
    "# Get the actual label (y_test is a pandas Series)\n",
    "actual_label = y_test.iloc[0]\n",
    "\n",
    "print(\"\\nSample Prediction:\")\n",
    "print(f\"Selected Features: {list(loaded_features)}\")\n",
    "print(f\"Feature Values: {sample_data.values[0]}\")\n",
    "print(f\"Predicted: {'Attack' if prediction[0] == 1 else 'Normal'}\")\n",
    "print(f\"Actual: {'Attack' if actual_label == 1 else 'Normal'}\")"
   ]
  },
  {
   "cell_type": "code",
   "execution_count": null,
   "id": "7f9d62d6-e041-4890-8082-2b3c6e4c74bc",
   "metadata": {},
   "outputs": [],
   "source": []
  },
  {
   "cell_type": "code",
   "execution_count": null,
   "id": "99693997-c189-4f70-8d99-cad7c98ff0bc",
   "metadata": {},
   "outputs": [],
   "source": []
  },
  {
   "cell_type": "code",
   "execution_count": null,
   "id": "3de3810c-5229-43d0-8ea0-03a63fa4c33c",
   "metadata": {},
   "outputs": [],
   "source": []
  }
 ],
 "metadata": {
  "kernelspec": {
   "display_name": "Python 3 (ipykernel)",
   "language": "python",
   "name": "python3"
  },
  "language_info": {
   "codemirror_mode": {
    "name": "ipython",
    "version": 3
   },
   "file_extension": ".py",
   "mimetype": "text/x-python",
   "name": "python",
   "nbconvert_exporter": "python",
   "pygments_lexer": "ipython3",
   "version": "3.11.7"
  }
 },
 "nbformat": 4,
 "nbformat_minor": 5
}
